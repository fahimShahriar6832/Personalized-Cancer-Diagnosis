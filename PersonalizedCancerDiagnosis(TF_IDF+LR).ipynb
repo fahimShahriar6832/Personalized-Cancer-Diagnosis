{
  "nbformat": 4,
  "nbformat_minor": 0,
  "metadata": {
    "colab": {
      "name": "PersonalizedCancerDiagnosis(TF_IDF+LR).ipynb",
      "provenance": []
    },
    "kernelspec": {
      "name": "python3",
      "display_name": "Python 3"
    }
  },
  "cells": [
    {
      "cell_type": "markdown",
      "metadata": {
        "id": "TqYuk2b1c90b"
      },
      "source": [
        "# **PersonalizedCancerDiagnosis(TF_IDF+LR)**"
      ]
    },
    {
      "cell_type": "code",
      "metadata": {
        "id": "POidTzfMdFic"
      },
      "source": [
        "import pandas as pd\r\n",
        "import matplotlib.pyplot as plt\r\n",
        "import seaborn as sns\r\n",
        "import re\r\n",
        "import time\r\n",
        "import warnings\r\n",
        "import numpy as np\r\n",
        "from nltk.corpus import stopwords\r\n",
        "from sklearn.preprocessing import normalize\r\n",
        "from sklearn.feature_extraction.text import TfidfVectorizer\r\n",
        "from sklearn.feature_extraction.text import CountVectorizer\r\n",
        "from scipy.sparse import hstack\r\n",
        "from sklearn.metrics import confusion_matrix\r\n",
        "from sklearn.metrics.classification import accuracy_score, log_loss\r\n",
        "from sklearn.linear_model import SGDClassifier\r\n",
        "from sklearn.calibration import CalibratedClassifierCV\r\n",
        "from sklearn.model_selection import train_test_split\r\n",
        "from sklearn.model_selection import GridSearchCV\r\n",
        "import math\r\n",
        "from sklearn.metrics import normalized_mutual_info_score\r\n",
        "warnings.filterwarnings(\"ignore\")\r\n",
        "from sklearn.linear_model import LogisticRegression\r\n"
      ],
      "execution_count": 59,
      "outputs": []
    },
    {
      "cell_type": "markdown",
      "metadata": {
        "id": "Ezucl-PSeubp"
      },
      "source": [
        "# 1. Reading **Data**"
      ]
    },
    {
      "cell_type": "markdown",
      "metadata": {
        "id": "9FhVyn47e3Uh"
      },
      "source": [
        "1.1. Reading Gene and Variation **Data**"
      ]
    },
    {
      "cell_type": "code",
      "metadata": {
        "colab": {
          "base_uri": "https://localhost:8080/",
          "height": 246
        },
        "id": "ESfovmFne5bX",
        "outputId": "a4cf423a-dd83-4fe2-f706-69554bc8aa81"
      },
      "source": [
        "data = pd.read_csv('/content/drive/MyDrive/Cancer-prediction/training_variants.csv')\r\n",
        "print('Number of data points : ', data.shape[0])\r\n",
        "print('Number of features : ', data.shape[1])\r\n",
        "print('Features : ', data.columns.values)\r\n",
        "data.head()"
      ],
      "execution_count": 36,
      "outputs": [
        {
          "output_type": "stream",
          "text": [
            "Number of data points :  3321\n",
            "Number of features :  4\n",
            "Features :  ['ID' 'Gene' 'Variation' 'Class']\n"
          ],
          "name": "stdout"
        },
        {
          "output_type": "execute_result",
          "data": {
            "text/html": [
              "<div>\n",
              "<style scoped>\n",
              "    .dataframe tbody tr th:only-of-type {\n",
              "        vertical-align: middle;\n",
              "    }\n",
              "\n",
              "    .dataframe tbody tr th {\n",
              "        vertical-align: top;\n",
              "    }\n",
              "\n",
              "    .dataframe thead th {\n",
              "        text-align: right;\n",
              "    }\n",
              "</style>\n",
              "<table border=\"1\" class=\"dataframe\">\n",
              "  <thead>\n",
              "    <tr style=\"text-align: right;\">\n",
              "      <th></th>\n",
              "      <th>ID</th>\n",
              "      <th>Gene</th>\n",
              "      <th>Variation</th>\n",
              "      <th>Class</th>\n",
              "    </tr>\n",
              "  </thead>\n",
              "  <tbody>\n",
              "    <tr>\n",
              "      <th>0</th>\n",
              "      <td>0</td>\n",
              "      <td>FAM58A</td>\n",
              "      <td>Truncating Mutations</td>\n",
              "      <td>1</td>\n",
              "    </tr>\n",
              "    <tr>\n",
              "      <th>1</th>\n",
              "      <td>1</td>\n",
              "      <td>CBL</td>\n",
              "      <td>W802*</td>\n",
              "      <td>2</td>\n",
              "    </tr>\n",
              "    <tr>\n",
              "      <th>2</th>\n",
              "      <td>2</td>\n",
              "      <td>CBL</td>\n",
              "      <td>Q249E</td>\n",
              "      <td>2</td>\n",
              "    </tr>\n",
              "    <tr>\n",
              "      <th>3</th>\n",
              "      <td>3</td>\n",
              "      <td>CBL</td>\n",
              "      <td>N454D</td>\n",
              "      <td>3</td>\n",
              "    </tr>\n",
              "    <tr>\n",
              "      <th>4</th>\n",
              "      <td>4</td>\n",
              "      <td>CBL</td>\n",
              "      <td>L399V</td>\n",
              "      <td>4</td>\n",
              "    </tr>\n",
              "  </tbody>\n",
              "</table>\n",
              "</div>"
            ],
            "text/plain": [
              "   ID    Gene             Variation  Class\n",
              "0   0  FAM58A  Truncating Mutations      1\n",
              "1   1     CBL                 W802*      2\n",
              "2   2     CBL                 Q249E      2\n",
              "3   3     CBL                 N454D      3\n",
              "4   4     CBL                 L399V      4"
            ]
          },
          "metadata": {
            "tags": []
          },
          "execution_count": 36
        }
      ]
    },
    {
      "cell_type": "markdown",
      "metadata": {
        "id": "OE_ey5nafWPA"
      },
      "source": [
        "1.2. Reading Text **Data**"
      ]
    },
    {
      "cell_type": "code",
      "metadata": {
        "colab": {
          "base_uri": "https://localhost:8080/",
          "height": 246
        },
        "id": "sRei3tVYfXhx",
        "outputId": "70c2c7b8-3a30-4e40-8f1d-ed8ec29ddc91"
      },
      "source": [
        "# note the seprator in this file\r\n",
        "data_text =pd.read_csv(\"/content/drive/MyDrive/Cancer-prediction/training_text.csv\",sep=\"\\|\\|\",engine=\"python\",names=[\"ID\",\"TEXT\"],skiprows=1)\r\n",
        "print('Number of data points : ', data_text.shape[0])\r\n",
        "print('Number of features : ', data_text.shape[1])\r\n",
        "print('Features : ', data_text.columns.values)\r\n",
        "data_text.head()"
      ],
      "execution_count": 37,
      "outputs": [
        {
          "output_type": "stream",
          "text": [
            "Number of data points :  3321\n",
            "Number of features :  2\n",
            "Features :  ['ID' 'TEXT']\n"
          ],
          "name": "stdout"
        },
        {
          "output_type": "execute_result",
          "data": {
            "text/html": [
              "<div>\n",
              "<style scoped>\n",
              "    .dataframe tbody tr th:only-of-type {\n",
              "        vertical-align: middle;\n",
              "    }\n",
              "\n",
              "    .dataframe tbody tr th {\n",
              "        vertical-align: top;\n",
              "    }\n",
              "\n",
              "    .dataframe thead th {\n",
              "        text-align: right;\n",
              "    }\n",
              "</style>\n",
              "<table border=\"1\" class=\"dataframe\">\n",
              "  <thead>\n",
              "    <tr style=\"text-align: right;\">\n",
              "      <th></th>\n",
              "      <th>ID</th>\n",
              "      <th>TEXT</th>\n",
              "    </tr>\n",
              "  </thead>\n",
              "  <tbody>\n",
              "    <tr>\n",
              "      <th>0</th>\n",
              "      <td>0</td>\n",
              "      <td>Cyclin-dependent kinases (CDKs) regulate a var...</td>\n",
              "    </tr>\n",
              "    <tr>\n",
              "      <th>1</th>\n",
              "      <td>1</td>\n",
              "      <td>Abstract Background  Non-small cell lung canc...</td>\n",
              "    </tr>\n",
              "    <tr>\n",
              "      <th>2</th>\n",
              "      <td>2</td>\n",
              "      <td>Abstract Background  Non-small cell lung canc...</td>\n",
              "    </tr>\n",
              "    <tr>\n",
              "      <th>3</th>\n",
              "      <td>3</td>\n",
              "      <td>Recent evidence has demonstrated that acquired...</td>\n",
              "    </tr>\n",
              "    <tr>\n",
              "      <th>4</th>\n",
              "      <td>4</td>\n",
              "      <td>Oncogenic mutations in the monomeric Casitas B...</td>\n",
              "    </tr>\n",
              "  </tbody>\n",
              "</table>\n",
              "</div>"
            ],
            "text/plain": [
              "   ID                                               TEXT\n",
              "0   0  Cyclin-dependent kinases (CDKs) regulate a var...\n",
              "1   1   Abstract Background  Non-small cell lung canc...\n",
              "2   2   Abstract Background  Non-small cell lung canc...\n",
              "3   3  Recent evidence has demonstrated that acquired...\n",
              "4   4  Oncogenic mutations in the monomeric Casitas B..."
            ]
          },
          "metadata": {
            "tags": []
          },
          "execution_count": 37
        }
      ]
    },
    {
      "cell_type": "markdown",
      "metadata": {
        "id": "3I8VrR8PfcQw"
      },
      "source": [
        "### **1.3. Preprocessing of text**"
      ]
    },
    {
      "cell_type": "code",
      "metadata": {
        "colab": {
          "base_uri": "https://localhost:8080/"
        },
        "id": "OkFB3u0TffKT",
        "outputId": "b84dd624-4445-462e-f55e-e8b4fa53286a"
      },
      "source": [
        "import nltk\r\n",
        "nltk.download('stopwords')\r\n",
        "\r\n",
        "# loading stop words from nltk library\r\n",
        "stop_words = set(stopwords.words('english'))\r\n",
        "\r\n",
        "\r\n",
        "def nlp_preprocessing(total_text, index, column):\r\n",
        "    if type(total_text) is not int:\r\n",
        "        string = \"\"\r\n",
        "        # replace every special char with space\r\n",
        "        total_text = re.sub('[^a-zA-Z0-9\\n]', ' ', total_text)\r\n",
        "        # replace multiple spaces with single space\r\n",
        "        total_text = re.sub('\\s+',' ', total_text)\r\n",
        "        # converting all the chars into lower-case.\r\n",
        "        total_text = total_text.lower()\r\n",
        "        \r\n",
        "        for word in total_text.split():\r\n",
        "        # if the word is a not a stop word then retain that word from the data\r\n",
        "            if not word in stop_words:\r\n",
        "                string += word + \" \"\r\n",
        "        \r\n",
        "        data_text[column][index] = string"
      ],
      "execution_count": 38,
      "outputs": [
        {
          "output_type": "stream",
          "text": [
            "[nltk_data] Downloading package stopwords to /root/nltk_data...\n",
            "[nltk_data]   Package stopwords is already up-to-date!\n"
          ],
          "name": "stdout"
        }
      ]
    },
    {
      "cell_type": "code",
      "metadata": {
        "colab": {
          "base_uri": "https://localhost:8080/"
        },
        "id": "D6pUVCxefvBY",
        "outputId": "b15e475f-993f-4cc2-c569-5ce850915fc0"
      },
      "source": [
        "#text processing stage.\r\n",
        "start_time = time.clock()\r\n",
        "for index, row in data_text.iterrows():\r\n",
        "    if type(row['TEXT']) is str:\r\n",
        "        nlp_preprocessing(row['TEXT'], index, 'TEXT')\r\n",
        "    else:\r\n",
        "        print(\"there is no text description for id:\",index)\r\n",
        "print('Time took for preprocessing the text :',time.clock() - start_time, \"seconds\")"
      ],
      "execution_count": 39,
      "outputs": [
        {
          "output_type": "stream",
          "text": [
            "there is no text description for id: 1109\n",
            "there is no text description for id: 1277\n",
            "there is no text description for id: 1407\n",
            "there is no text description for id: 1639\n",
            "there is no text description for id: 2755\n",
            "Time took for preprocessing the text : 27.78474799999998 seconds\n"
          ],
          "name": "stdout"
        }
      ]
    },
    {
      "cell_type": "code",
      "metadata": {
        "colab": {
          "base_uri": "https://localhost:8080/",
          "height": 195
        },
        "id": "zp8SL7t6f77g",
        "outputId": "278be558-a89c-4d77-fee6-c9cc12b16c63"
      },
      "source": [
        "#merging both gene_variations and text data based on ID\r\n",
        "result = pd.merge(data, data_text,on='ID', how='left')\r\n",
        "result.head()"
      ],
      "execution_count": 40,
      "outputs": [
        {
          "output_type": "execute_result",
          "data": {
            "text/html": [
              "<div>\n",
              "<style scoped>\n",
              "    .dataframe tbody tr th:only-of-type {\n",
              "        vertical-align: middle;\n",
              "    }\n",
              "\n",
              "    .dataframe tbody tr th {\n",
              "        vertical-align: top;\n",
              "    }\n",
              "\n",
              "    .dataframe thead th {\n",
              "        text-align: right;\n",
              "    }\n",
              "</style>\n",
              "<table border=\"1\" class=\"dataframe\">\n",
              "  <thead>\n",
              "    <tr style=\"text-align: right;\">\n",
              "      <th></th>\n",
              "      <th>ID</th>\n",
              "      <th>Gene</th>\n",
              "      <th>Variation</th>\n",
              "      <th>Class</th>\n",
              "      <th>TEXT</th>\n",
              "    </tr>\n",
              "  </thead>\n",
              "  <tbody>\n",
              "    <tr>\n",
              "      <th>0</th>\n",
              "      <td>0</td>\n",
              "      <td>FAM58A</td>\n",
              "      <td>Truncating Mutations</td>\n",
              "      <td>1</td>\n",
              "      <td>cyclin dependent kinases cdks regulate variety...</td>\n",
              "    </tr>\n",
              "    <tr>\n",
              "      <th>1</th>\n",
              "      <td>1</td>\n",
              "      <td>CBL</td>\n",
              "      <td>W802*</td>\n",
              "      <td>2</td>\n",
              "      <td>abstract background non small cell lung cancer...</td>\n",
              "    </tr>\n",
              "    <tr>\n",
              "      <th>2</th>\n",
              "      <td>2</td>\n",
              "      <td>CBL</td>\n",
              "      <td>Q249E</td>\n",
              "      <td>2</td>\n",
              "      <td>abstract background non small cell lung cancer...</td>\n",
              "    </tr>\n",
              "    <tr>\n",
              "      <th>3</th>\n",
              "      <td>3</td>\n",
              "      <td>CBL</td>\n",
              "      <td>N454D</td>\n",
              "      <td>3</td>\n",
              "      <td>recent evidence demonstrated acquired uniparen...</td>\n",
              "    </tr>\n",
              "    <tr>\n",
              "      <th>4</th>\n",
              "      <td>4</td>\n",
              "      <td>CBL</td>\n",
              "      <td>L399V</td>\n",
              "      <td>4</td>\n",
              "      <td>oncogenic mutations monomeric casitas b lineag...</td>\n",
              "    </tr>\n",
              "  </tbody>\n",
              "</table>\n",
              "</div>"
            ],
            "text/plain": [
              "   ID    Gene  ... Class                                               TEXT\n",
              "0   0  FAM58A  ...     1  cyclin dependent kinases cdks regulate variety...\n",
              "1   1     CBL  ...     2  abstract background non small cell lung cancer...\n",
              "2   2     CBL  ...     2  abstract background non small cell lung cancer...\n",
              "3   3     CBL  ...     3  recent evidence demonstrated acquired uniparen...\n",
              "4   4     CBL  ...     4  oncogenic mutations monomeric casitas b lineag...\n",
              "\n",
              "[5 rows x 5 columns]"
            ]
          },
          "metadata": {
            "tags": []
          },
          "execution_count": 40
        }
      ]
    },
    {
      "cell_type": "code",
      "metadata": {
        "colab": {
          "base_uri": "https://localhost:8080/",
          "height": 195
        },
        "id": "JaHQ8WVsf-kH",
        "outputId": "ad83f0e6-1305-4b66-e03e-bf1fa507fd8c"
      },
      "source": [
        "result[result.isnull().any(axis=1)]"
      ],
      "execution_count": 41,
      "outputs": [
        {
          "output_type": "execute_result",
          "data": {
            "text/html": [
              "<div>\n",
              "<style scoped>\n",
              "    .dataframe tbody tr th:only-of-type {\n",
              "        vertical-align: middle;\n",
              "    }\n",
              "\n",
              "    .dataframe tbody tr th {\n",
              "        vertical-align: top;\n",
              "    }\n",
              "\n",
              "    .dataframe thead th {\n",
              "        text-align: right;\n",
              "    }\n",
              "</style>\n",
              "<table border=\"1\" class=\"dataframe\">\n",
              "  <thead>\n",
              "    <tr style=\"text-align: right;\">\n",
              "      <th></th>\n",
              "      <th>ID</th>\n",
              "      <th>Gene</th>\n",
              "      <th>Variation</th>\n",
              "      <th>Class</th>\n",
              "      <th>TEXT</th>\n",
              "    </tr>\n",
              "  </thead>\n",
              "  <tbody>\n",
              "    <tr>\n",
              "      <th>1109</th>\n",
              "      <td>1109</td>\n",
              "      <td>FANCA</td>\n",
              "      <td>S1088F</td>\n",
              "      <td>1</td>\n",
              "      <td>NaN</td>\n",
              "    </tr>\n",
              "    <tr>\n",
              "      <th>1277</th>\n",
              "      <td>1277</td>\n",
              "      <td>ARID5B</td>\n",
              "      <td>Truncating Mutations</td>\n",
              "      <td>1</td>\n",
              "      <td>NaN</td>\n",
              "    </tr>\n",
              "    <tr>\n",
              "      <th>1407</th>\n",
              "      <td>1407</td>\n",
              "      <td>FGFR3</td>\n",
              "      <td>K508M</td>\n",
              "      <td>6</td>\n",
              "      <td>NaN</td>\n",
              "    </tr>\n",
              "    <tr>\n",
              "      <th>1639</th>\n",
              "      <td>1639</td>\n",
              "      <td>FLT1</td>\n",
              "      <td>Amplification</td>\n",
              "      <td>6</td>\n",
              "      <td>NaN</td>\n",
              "    </tr>\n",
              "    <tr>\n",
              "      <th>2755</th>\n",
              "      <td>2755</td>\n",
              "      <td>BRAF</td>\n",
              "      <td>G596C</td>\n",
              "      <td>7</td>\n",
              "      <td>NaN</td>\n",
              "    </tr>\n",
              "  </tbody>\n",
              "</table>\n",
              "</div>"
            ],
            "text/plain": [
              "        ID    Gene             Variation  Class TEXT\n",
              "1109  1109   FANCA                S1088F      1  NaN\n",
              "1277  1277  ARID5B  Truncating Mutations      1  NaN\n",
              "1407  1407   FGFR3                 K508M      6  NaN\n",
              "1639  1639    FLT1         Amplification      6  NaN\n",
              "2755  2755    BRAF                 G596C      7  NaN"
            ]
          },
          "metadata": {
            "tags": []
          },
          "execution_count": 41
        }
      ]
    },
    {
      "cell_type": "code",
      "metadata": {
        "id": "SEn9q-XrgBzK"
      },
      "source": [
        "result.loc[result['TEXT'].isnull(),'TEXT'] = result['Gene'] +' '+result['Variation']"
      ],
      "execution_count": 42,
      "outputs": []
    },
    {
      "cell_type": "code",
      "metadata": {
        "colab": {
          "base_uri": "https://localhost:8080/",
          "height": 77
        },
        "id": "Yrx9ej93gCkJ",
        "outputId": "1e936ca7-8765-4fda-9043-4e39c2047c7a"
      },
      "source": [
        "result[result['ID']==1109]"
      ],
      "execution_count": 43,
      "outputs": [
        {
          "output_type": "execute_result",
          "data": {
            "text/html": [
              "<div>\n",
              "<style scoped>\n",
              "    .dataframe tbody tr th:only-of-type {\n",
              "        vertical-align: middle;\n",
              "    }\n",
              "\n",
              "    .dataframe tbody tr th {\n",
              "        vertical-align: top;\n",
              "    }\n",
              "\n",
              "    .dataframe thead th {\n",
              "        text-align: right;\n",
              "    }\n",
              "</style>\n",
              "<table border=\"1\" class=\"dataframe\">\n",
              "  <thead>\n",
              "    <tr style=\"text-align: right;\">\n",
              "      <th></th>\n",
              "      <th>ID</th>\n",
              "      <th>Gene</th>\n",
              "      <th>Variation</th>\n",
              "      <th>Class</th>\n",
              "      <th>TEXT</th>\n",
              "    </tr>\n",
              "  </thead>\n",
              "  <tbody>\n",
              "    <tr>\n",
              "      <th>1109</th>\n",
              "      <td>1109</td>\n",
              "      <td>FANCA</td>\n",
              "      <td>S1088F</td>\n",
              "      <td>1</td>\n",
              "      <td>FANCA S1088F</td>\n",
              "    </tr>\n",
              "  </tbody>\n",
              "</table>\n",
              "</div>"
            ],
            "text/plain": [
              "        ID   Gene Variation  Class          TEXT\n",
              "1109  1109  FANCA    S1088F      1  FANCA S1088F"
            ]
          },
          "metadata": {
            "tags": []
          },
          "execution_count": 43
        }
      ]
    },
    {
      "cell_type": "markdown",
      "metadata": {
        "id": "_uh7gIqdgGXB"
      },
      "source": [
        "1.4. Test, Train and Cross Validation **Split**"
      ]
    },
    {
      "cell_type": "markdown",
      "metadata": {
        "id": "Kzpd78k7gLL_"
      },
      "source": [
        "**1.4.1. Splitting data into train, test and cross validation (64:20:16)**"
      ]
    },
    {
      "cell_type": "code",
      "metadata": {
        "id": "whqHfef-gHiT"
      },
      "source": [
        "y_true = result['Class'].values\r\n",
        "result.Gene      = result.Gene.str.replace('\\s+', '_')\r\n",
        "result.Variation = result.Variation.str.replace('\\s+', '_')\r\n",
        "\r\n",
        "# split the data into test and train by maintaining same distribution of output varaible 'y_true' [stratify=y_true]\r\n",
        "X_train, test_df, y_train, y_test = train_test_split(result, y_true, stratify=y_true, test_size=0.2)\r\n",
        "# split the train data into train and cross validation by maintaining same distribution of output varaible 'y_train' [stratify=y_train]\r\n",
        "train_df, cv_df, y_train, y_cv = train_test_split(X_train, y_train, stratify=y_train, test_size=0.2)"
      ],
      "execution_count": 44,
      "outputs": []
    },
    {
      "cell_type": "code",
      "metadata": {
        "colab": {
          "base_uri": "https://localhost:8080/"
        },
        "id": "Za5tMZWMgTf5",
        "outputId": "4891f361-6b86-4a25-c9be-c050fd64f607"
      },
      "source": [
        "print('Number of data points in train data:', train_df.shape[0])\r\n",
        "print('Number of data points in test data:', test_df.shape[0])\r\n",
        "print('Number of data points in cross validation data:', cv_df.shape[0])"
      ],
      "execution_count": 45,
      "outputs": [
        {
          "output_type": "stream",
          "text": [
            "Number of data points in train data: 2124\n",
            "Number of data points in test data: 665\n",
            "Number of data points in cross validation data: 532\n"
          ],
          "name": "stdout"
        }
      ]
    },
    {
      "cell_type": "code",
      "metadata": {
        "id": "ekzbtF-igp_7"
      },
      "source": [
        "#Data preparation for ML models.\r\n",
        "\r\n",
        "#Misc. functionns for ML models\r\n",
        "\r\n",
        "\r\n",
        "def predict_and_plot_confusion_matrix(train_x, train_y,test_x, test_y, clf):\r\n",
        "    clf.fit(train_x, train_y)\r\n",
        "    sig_clf = CalibratedClassifierCV(clf, method=\"sigmoid\")\r\n",
        "    sig_clf.fit(train_x, train_y)\r\n",
        "    pred_y = sig_clf.predict(test_x)\r\n",
        "\r\n",
        "    # for calculating log_loss we willl provide the array of probabilities belongs to each class\r\n",
        "    print(\"Log loss :\",log_loss(test_y, sig_clf.predict_proba(test_x)))\r\n",
        "    # calculating the number of data points that are misclassified\r\n",
        "    print(\"Number of mis-classified points :\", np.count_nonzero((pred_y- test_y))/test_y.shape[0])\r\n",
        "    plot_confusion_matrix(test_y, pred_y)"
      ],
      "execution_count": 46,
      "outputs": []
    },
    {
      "cell_type": "code",
      "metadata": {
        "id": "JhS5RVzjgtUQ"
      },
      "source": [
        "def report_log_loss(train_x, train_y, test_x, test_y,  clf):\r\n",
        "    clf.fit(train_x, train_y)\r\n",
        "    sig_clf = CalibratedClassifierCV(clf, method=\"sigmoid\")\r\n",
        "    sig_clf.fit(train_x, train_y)\r\n",
        "    sig_clf_probs = sig_clf.predict_proba(test_x)\r\n",
        "    return log_loss(test_y, sig_clf_probs, eps=1e-15)"
      ],
      "execution_count": 47,
      "outputs": []
    },
    {
      "cell_type": "code",
      "metadata": {
        "id": "WlYjOdtqguIL"
      },
      "source": [
        "# one-hot encoding of Gene feature.\r\n",
        "gene_vectorizer = CountVectorizer()\r\n",
        "train_gene_feature_onehotCoding = gene_vectorizer.fit_transform(train_df['Gene'])\r\n",
        "test_gene_feature_onehotCoding = gene_vectorizer.transform(test_df['Gene'])\r\n",
        "cv_gene_feature_onehotCoding = gene_vectorizer.transform(cv_df['Gene'])"
      ],
      "execution_count": 48,
      "outputs": []
    },
    {
      "cell_type": "code",
      "metadata": {
        "id": "MpHTJ9D4hTgg"
      },
      "source": [
        "# one-hot encoding of variation feature.\r\n",
        "variation_vectorizer = CountVectorizer()\r\n",
        "train_variation_feature_onehotCoding = variation_vectorizer.fit_transform(train_df['Variation'])\r\n",
        "test_variation_feature_onehotCoding = variation_vectorizer.transform(test_df['Variation'])\r\n",
        "cv_variation_feature_onehotCoding = variation_vectorizer.transform(cv_df['Variation'])"
      ],
      "execution_count": 49,
      "outputs": []
    },
    {
      "cell_type": "markdown",
      "metadata": {
        "id": "9gy-MaVfhhLz"
      },
      "source": [
        "# Univariate Analysis on Text Feature"
      ]
    },
    {
      "cell_type": "code",
      "metadata": {
        "id": "AXMCyS0Zhjlj"
      },
      "source": [
        "# cls_text is a data frame\r\n",
        "# for every row in data fram consider the 'TEXT'\r\n",
        "# split the words by space\r\n",
        "# make a dict with those words\r\n",
        "# increment its count whenever we see that word\r\n",
        "\r\n",
        "def extract_dictionary_paddle(cls_text):\r\n",
        "    dictionary = defaultdict(int)\r\n",
        "    for index, row in cls_text.iterrows():\r\n",
        "        for word in row['TEXT'].split():\r\n",
        "            dictionary[word] +=1\r\n",
        "    return dictionary"
      ],
      "execution_count": 50,
      "outputs": []
    },
    {
      "cell_type": "code",
      "metadata": {
        "colab": {
          "base_uri": "https://localhost:8080/"
        },
        "id": "a_2zbsFIho2Y",
        "outputId": "ac548e5e-d5aa-4bae-cd4a-218e3652e685"
      },
      "source": [
        "# building a TfidfVectorizer with Uni_gram\r\n",
        "text_vectorizer = TfidfVectorizer(max_features=3000,ngram_range=(1,1))\r\n",
        "train_text_feature_TfidfVectorizer = text_vectorizer.fit_transform(train_df['TEXT'])\r\n",
        "# getting all the feature names (words)\r\n",
        "train_text_features= text_vectorizer.get_feature_names()\r\n",
        "\r\n",
        "# train_text_feature_onehotCoding.sum(axis=0).A1 will sum every row and returns (1*number of features) vector\r\n",
        "train_text_fea_counts = train_text_feature_TfidfVectorizer.sum(axis=0).A1\r\n",
        "\r\n",
        "# zip(list(text_features),text_fea_counts) will zip a word with its number of times it occured\r\n",
        "text_fea_dict = dict(zip(list(train_text_features),train_text_fea_counts))\r\n",
        "\r\n",
        "\r\n",
        "print(\"Total number of unique words in train data :\", len(train_text_features))"
      ],
      "execution_count": 51,
      "outputs": [
        {
          "output_type": "stream",
          "text": [
            "Total number of unique words in train data : 3000\n"
          ],
          "name": "stdout"
        }
      ]
    },
    {
      "cell_type": "code",
      "metadata": {
        "id": "3lnTBbyci7bb"
      },
      "source": [
        "# don't forget to normalize every feature\r\n",
        "train_text_feature_TfidfVectorizer = normalize(train_text_feature_TfidfVectorizer, axis=0)\r\n",
        "\r\n",
        "# we use the same vectorizer that was trained on train data\r\n",
        "test_text_feature_TfidfVectorizer = text_vectorizer.transform(test_df['TEXT'])\r\n",
        "# don't forget to normalize every feature\r\n",
        "test_text_feature_TfidfVectorizer = normalize(test_text_feature_TfidfVectorizer, axis=0)\r\n",
        "\r\n",
        "# we use the same vectorizer that was trained on train data\r\n",
        "cv_text_feature_TfidfVectorizer = text_vectorizer.transform(cv_df['TEXT'])\r\n",
        "# don't forget to normalize every feature\r\n",
        "cv_text_feature_TfidfVectorizer = normalize(cv_text_feature_TfidfVectorizer, axis=0)"
      ],
      "execution_count": 52,
      "outputs": []
    },
    {
      "cell_type": "markdown",
      "metadata": {
        "id": "7q3JZ0YZkC3R"
      },
      "source": [
        "# Stacking the three types of features"
      ]
    },
    {
      "cell_type": "code",
      "metadata": {
        "id": "41GzVu3ykExs"
      },
      "source": [
        "# merging gene, variance and text features\r\n",
        "\r\n",
        "# building train, test and cross validation data sets\r\n",
        "# a = [[1, 2], \r\n",
        "#      [3, 4]]\r\n",
        "# b = [[4, 5], \r\n",
        "#      [6, 7]]\r\n",
        "# hstack(a, b) = [[1, 2, 4, 5],\r\n",
        "#                [ 3, 4, 6, 7]]\r\n",
        "\r\n",
        "train_gene_var_onehotCoding = hstack((train_gene_feature_onehotCoding,train_variation_feature_onehotCoding))\r\n",
        "test_gene_var_onehotCoding = hstack((test_gene_feature_onehotCoding,test_variation_feature_onehotCoding))\r\n",
        "cv_gene_var_onehotCoding = hstack((cv_gene_feature_onehotCoding,cv_variation_feature_onehotCoding))\r\n",
        "\r\n",
        "train_x_onehotCoding = hstack((train_gene_var_onehotCoding, train_text_feature_TfidfVectorizer)).tocsr()\r\n",
        "train_y = np.array(list(train_df['Class']))\r\n",
        "\r\n",
        "test_x_onehotCoding = hstack((test_gene_var_onehotCoding, test_text_feature_TfidfVectorizer)).tocsr()\r\n",
        "test_y = np.array(list(test_df['Class']))\r\n",
        "\r\n",
        "cv_x_onehotCoding = hstack((cv_gene_var_onehotCoding, cv_text_feature_TfidfVectorizer)).tocsr()\r\n",
        "cv_y = np.array(list(cv_df['Class']))"
      ],
      "execution_count": 53,
      "outputs": []
    },
    {
      "cell_type": "code",
      "metadata": {
        "colab": {
          "base_uri": "https://localhost:8080/"
        },
        "id": "nCUGGmGZk2Ar",
        "outputId": "a2b13260-a4eb-4c5f-d882-fae972c31027"
      },
      "source": [
        "print(\"One hot encoding features :\")\r\n",
        "print(\"(number of data points * number of features) in train data = \", train_x_onehotCoding.shape)\r\n",
        "print(\"(number of data points * number of features) in test data = \", test_x_onehotCoding.shape)\r\n",
        "print(\"(number of data points * number of features) in cross validation data =\", cv_x_onehotCoding.shape)"
      ],
      "execution_count": 54,
      "outputs": [
        {
          "output_type": "stream",
          "text": [
            "One hot encoding features :\n",
            "(number of data points * number of features) in train data =  (2124, 5209)\n",
            "(number of data points * number of features) in test data =  (665, 5209)\n",
            "(number of data points * number of features) in cross validation data = (532, 5209)\n"
          ],
          "name": "stdout"
        }
      ]
    },
    {
      "cell_type": "markdown",
      "metadata": {
        "id": "_YPorqqzk6yV"
      },
      "source": [
        "# Logistic Regression"
      ]
    },
    {
      "cell_type": "code",
      "metadata": {
        "colab": {
          "base_uri": "https://localhost:8080/",
          "height": 648
        },
        "id": "V57WVWuZk8Ro",
        "outputId": "22e7cdfc-0ed5-4876-9bfa-b5852643f035"
      },
      "source": [
        "alpha = [10 ** x for x in range(-6, 3)]\r\n",
        "cv_log_error_array = []\r\n",
        "for i in alpha:\r\n",
        "    print(\"for alpha =\", i)\r\n",
        "    clf = SGDClassifier(class_weight='balanced', alpha=i, penalty='l2', loss='log', random_state=42)\r\n",
        "    clf.fit(train_x_onehotCoding, train_y)\r\n",
        "    sig_clf = CalibratedClassifierCV(clf, method=\"sigmoid\")\r\n",
        "    sig_clf.fit(train_x_onehotCoding, train_y)\r\n",
        "    sig_clf_probs = sig_clf.predict_proba(cv_x_onehotCoding)\r\n",
        "    cv_log_error_array.append(log_loss(cv_y, sig_clf_probs, labels=clf.classes_, eps=1e-15))\r\n",
        "    # to avoid rounding error while multiplying probabilites we use log-probability estimates\r\n",
        "    print(\"Log Loss :\",log_loss(cv_y, sig_clf_probs)) \r\n",
        "\r\n",
        "fig, ax = plt.subplots()\r\n",
        "ax.plot(alpha, cv_log_error_array,c='g')\r\n",
        "for i, txt in enumerate(np.round(cv_log_error_array,3)):\r\n",
        "    ax.annotate((alpha[i],str(txt)), (alpha[i],cv_log_error_array[i]))\r\n",
        "plt.grid()\r\n",
        "plt.title(\"Cross Validation Error for each alpha\")\r\n",
        "plt.xlabel(\"Alpha i's\")\r\n",
        "plt.ylabel(\"Error measure\")\r\n",
        "plt.show()\r\n",
        "\r\n",
        "best_alpha = np.argmin(cv_log_error_array)\r\n",
        "clf = SGDClassifier(class_weight='balanced', alpha=alpha[best_alpha], penalty='l2', loss='log', random_state=42)\r\n",
        "clf.fit(train_x_onehotCoding, train_y)\r\n",
        "sig_clf = CalibratedClassifierCV(clf, method=\"sigmoid\")\r\n",
        "sig_clf.fit(train_x_onehotCoding, train_y)\r\n",
        "\r\n",
        "predict_y = sig_clf.predict_proba(train_x_onehotCoding)\r\n",
        "print('For values of best alpha = ', alpha[best_alpha], \"The train log loss is:\",log_loss(y_train, predict_y, labels=clf.classes_, eps=1e-15))\r\n",
        "predict_y = sig_clf.predict_proba(cv_x_onehotCoding)\r\n",
        "print('For values of best alpha = ', alpha[best_alpha], \"The cross validation log loss is:\",log_loss(y_cv, predict_y, labels=clf.classes_, eps=1e-15))\r\n",
        "predict_y = sig_clf.predict_proba(test_x_onehotCoding)\r\n",
        "print('For values of best alpha = ', alpha[best_alpha], \"The test log loss is:\",log_loss(y_test, predict_y, labels=clf.classes_, eps=1e-15))"
      ],
      "execution_count": 55,
      "outputs": [
        {
          "output_type": "stream",
          "text": [
            "for alpha = 1e-06\n",
            "Log Loss : 1.1142202793696054\n",
            "for alpha = 1e-05\n",
            "Log Loss : 1.0582718320485631\n",
            "for alpha = 0.0001\n",
            "Log Loss : 0.9727270121945357\n",
            "for alpha = 0.001\n",
            "Log Loss : 0.9698548500775389\n",
            "for alpha = 0.01\n",
            "Log Loss : 1.1485515061310194\n",
            "for alpha = 0.1\n",
            "Log Loss : 1.7050366291604098\n",
            "for alpha = 1\n",
            "Log Loss : 1.8108359678423547\n",
            "for alpha = 10\n",
            "Log Loss : 1.8225607771158927\n",
            "for alpha = 100\n",
            "Log Loss : 1.8237275127314925\n"
          ],
          "name": "stdout"
        },
        {
          "output_type": "display_data",
          "data": {
            "image/png": "[encoded data removed]",
            "text/plain": [
              "<Figure size 432x288 with 1 Axes>"
            ]
          },
          "metadata": {
            "tags": [],
            "needs_background": "light"
          }
        },
        {
          "output_type": "stream",
          "text": [
            "For values of best alpha =  0.001 The train log loss is: 0.6334715198890594\n",
            "For values of best alpha =  0.001 The cross validation log loss is: 0.9698548500775389\n",
            "For values of best alpha =  0.001 The test log loss is: 1.0233417220872685\n"
          ],
          "name": "stdout"
        }
      ]
    },
    {
      "cell_type": "code",
      "metadata": {
        "id": "v8aK5QapnUQI"
      },
      "source": [
        "# This function plots the confusion matrices given y_i, y_i_hat.\r\n",
        "def plot_confusion_matrix(test_y, predict_y):\r\n",
        "    C = confusion_matrix(test_y, predict_y)\r\n",
        "    # C = 9,9 matrix, each cell (i,j) represents number of points of class i are predicted class j\r\n",
        "    \r\n",
        "    A =(((C.T)/(C.sum(axis=1))).T)\r\n",
        "    #divid each element of the confusion matrix with the sum of elements in that column\r\n",
        "    \r\n",
        "    # C = [[1, 2],\r\n",
        "    #     [3, 4]]\r\n",
        "    # C.T = [[1, 3],\r\n",
        "    #        [2, 4]]\r\n",
        "    # C.sum(axis = 1)  axis=0 corresonds to columns and axis=1 corresponds to rows in two diamensional array\r\n",
        "    # C.sum(axix =1) = [[3, 7]]\r\n",
        "    # ((C.T)/(C.sum(axis=1))) = [[1/3, 3/7]\r\n",
        "    #                           [2/3, 4/7]]\r\n",
        "\r\n",
        "    # ((C.T)/(C.sum(axis=1))).T = [[1/3, 2/3]\r\n",
        "    #                           [3/7, 4/7]]\r\n",
        "    # sum of row elements = 1\r\n",
        "    \r\n",
        "    B =(C/C.sum(axis=0))\r\n",
        "    #divid each element of the confusion matrix with the sum of elements in that row\r\n",
        "    # C = [[1, 2],\r\n",
        "    #     [3, 4]]\r\n",
        "    # C.sum(axis = 0)  axis=0 corresonds to columns and axis=1 corresponds to rows in two diamensional array\r\n",
        "    # C.sum(axix =0) = [[4, 6]]\r\n",
        "    # (C/C.sum(axis=0)) = [[1/4, 2/6],\r\n",
        "    #                      [3/4, 4/6]] \r\n",
        "    \r\n",
        "    labels = [1,2,3,4,5,6,7,8,9]\r\n",
        "    # representing A in heatmap format\r\n",
        "    print(\"-\"*20, \"Confusion matrix\", \"-\"*20)\r\n",
        "    plt.figure(figsize=(20,7))\r\n",
        "    sns.heatmap(C, annot=True, cmap=\"YlGnBu\", fmt=\".3f\", xticklabels=labels, yticklabels=labels)\r\n",
        "    plt.xlabel('Predicted Class')\r\n",
        "    plt.ylabel('Original Class')\r\n",
        "    plt.show()\r\n",
        "\r\n",
        "    print(\"-\"*20, \"Precision matrix (Columm Sum=1)\", \"-\"*20)\r\n",
        "    plt.figure(figsize=(20,7))\r\n",
        "    sns.heatmap(B, annot=True, cmap=\"YlGnBu\", fmt=\".3f\", xticklabels=labels, yticklabels=labels)\r\n",
        "    plt.xlabel('Predicted Class')\r\n",
        "    plt.ylabel('Original Class')\r\n",
        "    plt.show()\r\n",
        "    \r\n",
        "    # representing B in heatmap format\r\n",
        "    print(\"-\"*20, \"Recall matrix (Row sum=1)\", \"-\"*20)\r\n",
        "    plt.figure(figsize=(20,7))\r\n",
        "    sns.heatmap(A, annot=True, cmap=\"YlGnBu\", fmt=\".3f\", xticklabels=labels, yticklabels=labels)\r\n",
        "    plt.xlabel('Predicted Class')\r\n",
        "    plt.ylabel('Original Class')\r\n",
        "    plt.show()"
      ],
      "execution_count": 57,
      "outputs": []
    },
    {
      "cell_type": "markdown",
      "metadata": {
        "id": "i6jRC8GqnV0s"
      },
      "source": [
        "# Testing the model with best hyper paramters"
      ]
    },
    {
      "cell_type": "code",
      "metadata": {
        "colab": {
          "base_uri": "https://localhost:8080/",
          "height": 1000
        },
        "id": "9rLY8pmlnZum",
        "outputId": "9ffbaf8e-490b-4b67-852b-32a731ec3e33"
      },
      "source": [
        "clf = SGDClassifier(class_weight='balanced', alpha=alpha[best_alpha], penalty='l2', loss='log', random_state=42)\r\n",
        "predict_and_plot_confusion_matrix(train_x_onehotCoding, train_y, cv_x_onehotCoding, cv_y, clf)"
      ],
      "execution_count": 60,
      "outputs": [
        {
          "output_type": "stream",
          "text": [
            "Log loss : 0.9698548500775389\n",
            "Number of mis-classified points : 0.32894736842105265\n",
            "-------------------- Confusion matrix --------------------\n"
          ],
          "name": "stdout"
        },
        {
          "output_type": "display_data",
          "data": {
            "image/png": "[encoded data removed]",
            "text/plain": [
              "<Figure size 1440x504 with 2 Axes>"
            ]
          },
          "metadata": {
            "tags": [],
            "needs_background": "light"
          }
        },
        {
          "output_type": "stream",
          "text": [
            "-------------------- Precision matrix (Columm Sum=1) --------------------\n"
          ],
          "name": "stdout"
        },
        {
          "output_type": "display_data",
          "data": {
            "image/png": "[encoded data removed]",
            "text/plain": [
              "<Figure size 1440x504 with 2 Axes>"
            ]
          },
          "metadata": {
            "tags": [],
            "needs_background": "light"
          }
        },
        {
          "output_type": "stream",
          "text": [
            "-------------------- Recall matrix (Row sum=1) --------------------\n"
          ],
          "name": "stdout"
        },
        {
          "output_type": "display_data",
          "data": {
            "image/png": "[encoded data removed]",
            "text/plain": [
              "<Figure size 1440x504 with 2 Axes>"
            ]
          },
          "metadata": {
            "tags": [],
            "needs_background": "light"
          }
        }
      ]
    }
  ]
}